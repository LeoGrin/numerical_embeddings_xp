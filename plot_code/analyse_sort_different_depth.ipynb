{
 "cells": [
  {
   "cell_type": "code",
   "execution_count": 1,
   "metadata": {},
   "outputs": [],
   "source": [
    "import pandas as pd\n",
    "df = pd.read_csv(\"results_summarised/sort_different_depth_17_05_2.csv\")"
   ]
  },
  {
   "cell_type": "code",
   "execution_count": 2,
   "metadata": {},
   "outputs": [],
   "source": [
    "# convert test_loss_list into two columns epoch and test_loss\n",
    "import ast\n",
    "import pandas as pd\n",
    "\n",
    "# Assuming df is your DataFrame and 'test_loss_list' is the column you're working with.\n",
    "\n",
    "for index, row in df.iterrows():\n",
    "    try:\n",
    "        # Try to evaluate the row as a literal.\n",
    "        pd.eval(row['test_loss_list'])\n",
    "    except Exception as e:\n",
    "        # If an exception occurs, print the index and the value that failed\n",
    "        print(f\"Failed at index {index}: {row['test_loss_list']}\")\n",
    "        print(f\"Error: {e}\")\n",
    "        # Optionally, break after the first failure\n",
    "        #break\n",
    "import ast\n",
    "# replace \"nan\" with None\n",
    "df['test_loss_list'] = df['test_loss_list'].str.replace('nan', 'None')\n",
    "df['loss_list'] = df['loss_list'].str.replace('nan', 'None')\n",
    "#df['test_loss_list'] = df['test_loss_list'].apply(lambda s: pd.eval(s))\n",
    "#df['loss_list'] = df['loss_list'].apply(lambda s: pd.eval(s))\n",
    "\n",
    "df['test_loss_list'] = df['test_loss_list'].apply(ast.literal_eval)\n",
    "df['loss_list'] = df['loss_list'].apply(ast.literal_eval)\n",
    "\n",
    "# Create a new DataFrame for Plotly Express\n",
    "rows_list = []\n",
    "for _, row in df.iterrows():\n",
    "    params = row.to_dict()\n",
    "    test_loss_list = params.pop('test_loss_list')\n",
    "    loss_list = params.pop('loss_list')\n",
    "    for epoch, loss in enumerate(test_loss_list):\n",
    "        params['epoch'] = epoch\n",
    "        params['test_loss'] = loss\n",
    "        params['train_loss'] = loss_list[epoch]\n",
    "        rows_list.append(params.copy())  # Use .copy() to avoid modifying the original params\n",
    "\n",
    "# Create a new DataFrame\n",
    "df_long = pd.DataFrame(rows_list)\n",
    "df_long = df_long.fillna(\"missing\")"
   ]
  },
  {
   "cell_type": "code",
   "execution_count": 3,
   "metadata": {},
   "outputs": [
    {
     "name": "stderr",
     "output_type": "stream",
     "text": [
      "/var/folders/fy/__8z8cpn6gs04465sq9g1nq80000gn/T/ipykernel_64917/2401676600.py:7: FutureWarning: DataFrame.applymap has been deprecated. Use DataFrame.map instead.\n",
      "  df_long = df_long.applymap(str)\n"
     ]
    }
   ],
   "source": [
    "df_long = df_long.fillna(\"missing\")\n",
    "# convert all to string except test_loss\n",
    "# removing rows where test_loss is missing\n",
    "df_long = df_long[df_long[\"test_loss\"] != \"missing\"]\n",
    "# same for epoch\n",
    "df_long = df_long[df_long[\"epoch\"] != \"missing\"]\n",
    "df_long = df_long.applymap(str)\n",
    "df_long[\"test_loss\"] = df_long[\"test_loss\"].astype(float)\n",
    "df_long[\"epoch\"] = df_long[\"epoch\"].astype(int)\n",
    "df_long[\"train_loss\"] = df_long[\"train_loss\"].astype(float)\n",
    "\n",
    "# drop \tUnnamed: 0\n",
    "def convert_embedding(name):\n",
    "    if \"GaussianEmbedder\" in name:\n",
    "        return \"gaussian\"\n",
    "    elif \"PositionalEncoding\" in name:\n",
    "        return \"positional\"\n",
    "    elif \"RandomFeature\" in name:\n",
    "        return \"fourier\"\n",
    "    else:\n",
    "        return \"none\"\n",
    "df_long[\"embedding\"] = df_long[\"embedding_function\"].apply(convert_embedding)\n",
    "\n",
    "# remove Unnamed: 0\n",
    "df_long = df_long.drop(columns=[\"Unnamed: 0\", \"job_id\"])"
   ]
  },
  {
   "cell_type": "code",
   "execution_count": 4,
   "metadata": {},
   "outputs": [],
   "source": [
    "# group\n",
    "group_cols = list(df_long.columns.difference(['test_loss', 'train_loss', \"iter\"]))\n",
    "df_grouped = df_long.groupby(group_cols)['test_loss'].mean().reset_index()"
   ]
  },
  {
   "cell_type": "code",
   "execution_count": 27,
   "metadata": {},
   "outputs": [
    {
     "name": "stdout",
     "output_type": "stream",
     "text": [
      "n_layer\n",
      "8     10\n",
      "1     10\n",
      "4     10\n",
      "16    10\n",
      "2     10\n",
      "32     5\n",
      "Name: count, dtype: int64\n",
      "attention_only\n",
      "True    55\n",
      "Name: count, dtype: int64\n",
      "n_epochs\n",
      "400    55\n",
      "Name: count, dtype: int64\n"
     ]
    },
    {
     "name": "stderr",
     "output_type": "stream",
     "text": [
      "/var/folders/fy/__8z8cpn6gs04465sq9g1nq80000gn/T/ipykernel_64917/1036408037.py:104: SettingWithCopyWarning:\n",
      "\n",
      "\n",
      "A value is trying to be set on a copy of a slice from a DataFrame.\n",
      "Try using .loc[row_indexer,col_indexer] = value instead\n",
      "\n",
      "See the caveats in the documentation: https://pandas.pydata.org/pandas-docs/stable/user_guide/indexing.html#returning-a-view-versus-a-copy\n",
      "\n",
      "/var/folders/fy/__8z8cpn6gs04465sq9g1nq80000gn/T/ipykernel_64917/1036408037.py:104: SettingWithCopyWarning:\n",
      "\n",
      "\n",
      "A value is trying to be set on a copy of a slice from a DataFrame.\n",
      "Try using .loc[row_indexer,col_indexer] = value instead\n",
      "\n",
      "See the caveats in the documentation: https://pandas.pydata.org/pandas-docs/stable/user_guide/indexing.html#returning-a-view-versus-a-copy\n",
      "\n"
     ]
    },
    {
     "data": {
      "application/vnd.plotly.v1+json": {
       "config": {
        "plotlyServerURL": "https://plot.ly"
       },
       "data": [
        {
         "alignmentgroup": "True",
         "customdata": [
          [
           "3",
           "256"
          ],
          [
           "4",
           "256"
          ],
          [
           "1",
           "256"
          ],
          [
           "1",
           "256"
          ],
          [
           "2",
           "256"
          ],
          [
           "0",
           "256"
          ],
          [
           "3",
           "256"
          ],
          [
           "4",
           "256"
          ],
          [
           "2",
           "256"
          ],
          [
           "4",
           "256"
          ],
          [
           "1",
           "256"
          ],
          [
           "4",
           "256"
          ],
          [
           "1",
           "256"
          ],
          [
           "2",
           "256"
          ],
          [
           "3",
           "256"
          ],
          [
           "0",
           "256"
          ],
          [
           "3",
           "256"
          ],
          [
           "0",
           "256"
          ],
          [
           "2",
           "256"
          ],
          [
           "4",
           "256"
          ],
          [
           "2",
           "256"
          ],
          [
           "0",
           "256"
          ],
          [
           "0",
           "256"
          ],
          [
           "1",
           "256"
          ],
          [
           "3",
           "256"
          ],
          [
           "1",
           "256"
          ],
          [
           "0",
           "256"
          ],
          [
           "2",
           "256"
          ],
          [
           "3",
           "256"
          ],
          [
           "4",
           "256"
          ]
         ],
         "hovertemplate": "n_embd=%{customdata[1]}<br>n_layer=%{x}<br>test_loss=%{y}<br>iter=%{customdata[0]}<extra></extra>",
         "legendgroup": "256",
         "marker": {
          "color": "#636efa"
         },
         "name": "256",
         "notched": false,
         "offsetgroup": "256",
         "orientation": "v",
         "showlegend": true,
         "type": "box",
         "x": [
          8,
          8,
          8,
          1,
          1,
          1,
          1,
          1,
          4,
          4,
          16,
          16,
          32,
          32,
          32,
          16,
          16,
          32,
          16,
          32,
          8,
          8,
          4,
          4,
          4,
          2,
          2,
          2,
          2,
          2
         ],
         "x0": " ",
         "xaxis": "x",
         "y": [
          0.003161141253960661,
          0.006027666574839173,
          0.007381470803218552,
          0.49582857006712805,
          0.5814854223516923,
          0.4875172983996476,
          0.5257361501078063,
          0.45017494732820534,
          0.014101672894026659,
          0.014547222105291071,
          0.004263516497810053,
          0.007369447128163485,
          0.008640221054842578,
          0.010616139302478183,
          0.0019440849096502497,
          0.002598690172610215,
          0.0037524157021006075,
          0.004225999673922794,
          0.004424054576437684,
          0.002600874359825555,
          0.008574827132109978,
          0.006040101523122079,
          0.021465185817472542,
          0.006428623489469667,
          0.010866288579057288,
          0.15684936997256702,
          0.06760569119566603,
          0.07541638622178307,
          0.08785024162711977,
          0.07326544123359874
         ],
         "y0": " ",
         "yaxis": "y"
        },
        {
         "alignmentgroup": "True",
         "customdata": [
          [
           "1",
           "512"
          ],
          [
           "2",
           "512"
          ],
          [
           "4",
           "512"
          ],
          [
           "0",
           "512"
          ],
          [
           "3",
           "512"
          ],
          [
           "0",
           "512"
          ],
          [
           "4",
           "512"
          ],
          [
           "0",
           "512"
          ],
          [
           "1",
           "512"
          ],
          [
           "3",
           "512"
          ],
          [
           "2",
           "512"
          ],
          [
           "1",
           "512"
          ],
          [
           "0",
           "512"
          ],
          [
           "2",
           "512"
          ],
          [
           "3",
           "512"
          ],
          [
           "4",
           "512"
          ],
          [
           "1",
           "512"
          ],
          [
           "0",
           "512"
          ],
          [
           "1",
           "512"
          ],
          [
           "4",
           "512"
          ],
          [
           "3",
           "512"
          ],
          [
           "2",
           "512"
          ],
          [
           "2",
           "512"
          ],
          [
           "3",
           "512"
          ],
          [
           "4",
           "512"
          ]
         ],
         "hovertemplate": "n_embd=%{customdata[1]}<br>n_layer=%{x}<br>test_loss=%{y}<br>iter=%{customdata[0]}<extra></extra>",
         "legendgroup": "512",
         "marker": {
          "color": "#EF553B"
         },
         "name": "512",
         "notched": false,
         "offsetgroup": "512",
         "orientation": "v",
         "showlegend": true,
         "type": "box",
         "x": [
          4,
          4,
          4,
          4,
          4,
          8,
          1,
          1,
          1,
          1,
          1,
          2,
          2,
          2,
          2,
          2,
          8,
          16,
          16,
          8,
          8,
          8,
          16,
          16,
          16
         ],
         "x0": " ",
         "xaxis": "x",
         "y": [
          0.01168835884596728,
          0.006724812886147182,
          0.005538009154268458,
          0.008406143659089186,
          0.011283902616440496,
          0.005027380648151606,
          0.31177440700651726,
          0.37840789631952215,
          0.3754920729353458,
          0.36682548251333114,
          0.37607576462286935,
          0.07370588428611997,
          0.1057461269105537,
          0.041597945403449146,
          0.03537727493934239,
          0.03526368326967275,
          0.010063885487144507,
          0.004392676002381346,
          0.10159666506172735,
          0.0031952465401042865,
          0.004187978930842084,
          0.012026011389739152,
          0.002659923158279514,
          0.011514681332473513,
          0.008251926614136635
         ],
         "y0": " ",
         "yaxis": "y"
        },
        {
         "alignmentgroup": "True",
         "hovertemplate": "n_embd=256<br>n_layer=%{x}<br>test_loss=%{y}<extra></extra>",
         "legendgroup": "256",
         "marker": {
          "color": "black"
         },
         "name": "256",
         "notched": false,
         "offsetgroup": "256",
         "orientation": "v",
         "showlegend": false,
         "type": "box",
         "x": [
          1.6,
          1.6,
          1.6,
          1.6,
          1.6
         ],
         "x0": " ",
         "xaxis": "x",
         "y": [
          0.0009657116665039211,
          0.0007381657982477918,
          0.0006954310621949844,
          0.0008273096274933778,
          0.0025038675405085085
         ],
         "y0": " ",
         "yaxis": "y"
        },
        {
         "alignmentgroup": "True",
         "hovertemplate": "n_embd=256<br>n_layer=%{x}<br>test_loss=%{y}<extra></extra>",
         "legendgroup": "256",
         "marker": {
          "color": "grey"
         },
         "name": "256",
         "notched": false,
         "offsetgroup": "256",
         "orientation": "v",
         "showlegend": false,
         "type": "box",
         "x": [
          2.4,
          2.4,
          2.4,
          2.4,
          2.4
         ],
         "x0": " ",
         "xaxis": "x",
         "y": [
          0.0008996050717541948,
          0.0009348682433483191,
          0.0009071205495274626,
          0.008419487462379038,
          0.0010403382577351295
         ],
         "y0": " ",
         "yaxis": "y"
        }
       ],
       "layout": {
        "annotations": [
         {
          "arrowhead": 2,
          "ax": 0.95,
          "ay": 0.0008273096274933778,
          "borderwidth": 2,
          "font": {
           "size": 14
          },
          "showarrow": true,
          "x": 0.95,
          "xref": "paper",
          "y": 0.0008273096274933778,
          "yref": "y"
         },
         {
          "arrowhead": 2,
          "ax": 0.95,
          "ay": 0.0009348682433483191,
          "borderwidth": 2,
          "font": {
           "size": 14
          },
          "showarrow": true,
          "x": 0.95,
          "xref": "paper",
          "y": 0.0009348682433483191,
          "yref": "y"
         }
        ],
        "boxgap": 0.2,
        "boxgroupgap": 0.2,
        "boxmode": "overlay",
        "font": {
         "color": "black",
         "family": "Arial, sans-serif",
         "size": 18
        },
        "height": 600,
        "legend": {
         "bgcolor": "white",
         "bordercolor": "black",
         "borderwidth": 1,
         "font": {
          "size": 14
         },
         "title": {
          "text": "Embedding Dimension"
         },
         "tracegroupgap": 0,
         "traceorder": "normal",
         "x": 1.05,
         "y": 1
        },
        "margin": {
         "b": 40,
         "l": 40,
         "r": 40,
         "t": 60
        },
        "shapes": [
         {
          "line": {
           "color": "black",
           "dash": "dash"
          },
          "type": "line",
          "x0": 0,
          "x1": 1,
          "xref": "x domain",
          "y0": 0.0008273096274933778,
          "y1": 0.0008273096274933778,
          "yref": "y"
         },
         {
          "line": {
           "color": "grey",
           "dash": "dash"
          },
          "type": "line",
          "x0": 0,
          "x1": 1,
          "xref": "x domain",
          "y0": 0.0009348682433483191,
          "y1": 0.0009348682433483191,
          "yref": "y"
         }
        ],
        "template": {
         "data": {
          "bar": [
           {
            "error_x": {
             "color": "#2a3f5f"
            },
            "error_y": {
             "color": "#2a3f5f"
            },
            "marker": {
             "line": {
              "color": "#E5ECF6",
              "width": 0.5
             },
             "pattern": {
              "fillmode": "overlay",
              "size": 10,
              "solidity": 0.2
             }
            },
            "type": "bar"
           }
          ],
          "barpolar": [
           {
            "marker": {
             "line": {
              "color": "#E5ECF6",
              "width": 0.5
             },
             "pattern": {
              "fillmode": "overlay",
              "size": 10,
              "solidity": 0.2
             }
            },
            "type": "barpolar"
           }
          ],
          "carpet": [
           {
            "aaxis": {
             "endlinecolor": "#2a3f5f",
             "gridcolor": "white",
             "linecolor": "white",
             "minorgridcolor": "white",
             "startlinecolor": "#2a3f5f"
            },
            "baxis": {
             "endlinecolor": "#2a3f5f",
             "gridcolor": "white",
             "linecolor": "white",
             "minorgridcolor": "white",
             "startlinecolor": "#2a3f5f"
            },
            "type": "carpet"
           }
          ],
          "choropleth": [
           {
            "colorbar": {
             "outlinewidth": 0,
             "ticks": ""
            },
            "type": "choropleth"
           }
          ],
          "contour": [
           {
            "colorbar": {
             "outlinewidth": 0,
             "ticks": ""
            },
            "colorscale": [
             [
              0,
              "#0d0887"
             ],
             [
              0.1111111111111111,
              "#46039f"
             ],
             [
              0.2222222222222222,
              "#7201a8"
             ],
             [
              0.3333333333333333,
              "#9c179e"
             ],
             [
              0.4444444444444444,
              "#bd3786"
             ],
             [
              0.5555555555555556,
              "#d8576b"
             ],
             [
              0.6666666666666666,
              "#ed7953"
             ],
             [
              0.7777777777777778,
              "#fb9f3a"
             ],
             [
              0.8888888888888888,
              "#fdca26"
             ],
             [
              1,
              "#f0f921"
             ]
            ],
            "type": "contour"
           }
          ],
          "contourcarpet": [
           {
            "colorbar": {
             "outlinewidth": 0,
             "ticks": ""
            },
            "type": "contourcarpet"
           }
          ],
          "heatmap": [
           {
            "colorbar": {
             "outlinewidth": 0,
             "ticks": ""
            },
            "colorscale": [
             [
              0,
              "#0d0887"
             ],
             [
              0.1111111111111111,
              "#46039f"
             ],
             [
              0.2222222222222222,
              "#7201a8"
             ],
             [
              0.3333333333333333,
              "#9c179e"
             ],
             [
              0.4444444444444444,
              "#bd3786"
             ],
             [
              0.5555555555555556,
              "#d8576b"
             ],
             [
              0.6666666666666666,
              "#ed7953"
             ],
             [
              0.7777777777777778,
              "#fb9f3a"
             ],
             [
              0.8888888888888888,
              "#fdca26"
             ],
             [
              1,
              "#f0f921"
             ]
            ],
            "type": "heatmap"
           }
          ],
          "heatmapgl": [
           {
            "colorbar": {
             "outlinewidth": 0,
             "ticks": ""
            },
            "colorscale": [
             [
              0,
              "#0d0887"
             ],
             [
              0.1111111111111111,
              "#46039f"
             ],
             [
              0.2222222222222222,
              "#7201a8"
             ],
             [
              0.3333333333333333,
              "#9c179e"
             ],
             [
              0.4444444444444444,
              "#bd3786"
             ],
             [
              0.5555555555555556,
              "#d8576b"
             ],
             [
              0.6666666666666666,
              "#ed7953"
             ],
             [
              0.7777777777777778,
              "#fb9f3a"
             ],
             [
              0.8888888888888888,
              "#fdca26"
             ],
             [
              1,
              "#f0f921"
             ]
            ],
            "type": "heatmapgl"
           }
          ],
          "histogram": [
           {
            "marker": {
             "pattern": {
              "fillmode": "overlay",
              "size": 10,
              "solidity": 0.2
             }
            },
            "type": "histogram"
           }
          ],
          "histogram2d": [
           {
            "colorbar": {
             "outlinewidth": 0,
             "ticks": ""
            },
            "colorscale": [
             [
              0,
              "#0d0887"
             ],
             [
              0.1111111111111111,
              "#46039f"
             ],
             [
              0.2222222222222222,
              "#7201a8"
             ],
             [
              0.3333333333333333,
              "#9c179e"
             ],
             [
              0.4444444444444444,
              "#bd3786"
             ],
             [
              0.5555555555555556,
              "#d8576b"
             ],
             [
              0.6666666666666666,
              "#ed7953"
             ],
             [
              0.7777777777777778,
              "#fb9f3a"
             ],
             [
              0.8888888888888888,
              "#fdca26"
             ],
             [
              1,
              "#f0f921"
             ]
            ],
            "type": "histogram2d"
           }
          ],
          "histogram2dcontour": [
           {
            "colorbar": {
             "outlinewidth": 0,
             "ticks": ""
            },
            "colorscale": [
             [
              0,
              "#0d0887"
             ],
             [
              0.1111111111111111,
              "#46039f"
             ],
             [
              0.2222222222222222,
              "#7201a8"
             ],
             [
              0.3333333333333333,
              "#9c179e"
             ],
             [
              0.4444444444444444,
              "#bd3786"
             ],
             [
              0.5555555555555556,
              "#d8576b"
             ],
             [
              0.6666666666666666,
              "#ed7953"
             ],
             [
              0.7777777777777778,
              "#fb9f3a"
             ],
             [
              0.8888888888888888,
              "#fdca26"
             ],
             [
              1,
              "#f0f921"
             ]
            ],
            "type": "histogram2dcontour"
           }
          ],
          "mesh3d": [
           {
            "colorbar": {
             "outlinewidth": 0,
             "ticks": ""
            },
            "type": "mesh3d"
           }
          ],
          "parcoords": [
           {
            "line": {
             "colorbar": {
              "outlinewidth": 0,
              "ticks": ""
             }
            },
            "type": "parcoords"
           }
          ],
          "pie": [
           {
            "automargin": true,
            "type": "pie"
           }
          ],
          "scatter": [
           {
            "fillpattern": {
             "fillmode": "overlay",
             "size": 10,
             "solidity": 0.2
            },
            "type": "scatter"
           }
          ],
          "scatter3d": [
           {
            "line": {
             "colorbar": {
              "outlinewidth": 0,
              "ticks": ""
             }
            },
            "marker": {
             "colorbar": {
              "outlinewidth": 0,
              "ticks": ""
             }
            },
            "type": "scatter3d"
           }
          ],
          "scattercarpet": [
           {
            "marker": {
             "colorbar": {
              "outlinewidth": 0,
              "ticks": ""
             }
            },
            "type": "scattercarpet"
           }
          ],
          "scattergeo": [
           {
            "marker": {
             "colorbar": {
              "outlinewidth": 0,
              "ticks": ""
             }
            },
            "type": "scattergeo"
           }
          ],
          "scattergl": [
           {
            "marker": {
             "colorbar": {
              "outlinewidth": 0,
              "ticks": ""
             }
            },
            "type": "scattergl"
           }
          ],
          "scattermapbox": [
           {
            "marker": {
             "colorbar": {
              "outlinewidth": 0,
              "ticks": ""
             }
            },
            "type": "scattermapbox"
           }
          ],
          "scatterpolar": [
           {
            "marker": {
             "colorbar": {
              "outlinewidth": 0,
              "ticks": ""
             }
            },
            "type": "scatterpolar"
           }
          ],
          "scatterpolargl": [
           {
            "marker": {
             "colorbar": {
              "outlinewidth": 0,
              "ticks": ""
             }
            },
            "type": "scatterpolargl"
           }
          ],
          "scatterternary": [
           {
            "marker": {
             "colorbar": {
              "outlinewidth": 0,
              "ticks": ""
             }
            },
            "type": "scatterternary"
           }
          ],
          "surface": [
           {
            "colorbar": {
             "outlinewidth": 0,
             "ticks": ""
            },
            "colorscale": [
             [
              0,
              "#0d0887"
             ],
             [
              0.1111111111111111,
              "#46039f"
             ],
             [
              0.2222222222222222,
              "#7201a8"
             ],
             [
              0.3333333333333333,
              "#9c179e"
             ],
             [
              0.4444444444444444,
              "#bd3786"
             ],
             [
              0.5555555555555556,
              "#d8576b"
             ],
             [
              0.6666666666666666,
              "#ed7953"
             ],
             [
              0.7777777777777778,
              "#fb9f3a"
             ],
             [
              0.8888888888888888,
              "#fdca26"
             ],
             [
              1,
              "#f0f921"
             ]
            ],
            "type": "surface"
           }
          ],
          "table": [
           {
            "cells": {
             "fill": {
              "color": "#EBF0F8"
             },
             "line": {
              "color": "white"
             }
            },
            "header": {
             "fill": {
              "color": "#C8D4E3"
             },
             "line": {
              "color": "white"
             }
            },
            "type": "table"
           }
          ]
         },
         "layout": {
          "annotationdefaults": {
           "arrowcolor": "#2a3f5f",
           "arrowhead": 0,
           "arrowwidth": 1
          },
          "autotypenumbers": "strict",
          "coloraxis": {
           "colorbar": {
            "outlinewidth": 0,
            "ticks": ""
           }
          },
          "colorscale": {
           "diverging": [
            [
             0,
             "#8e0152"
            ],
            [
             0.1,
             "#c51b7d"
            ],
            [
             0.2,
             "#de77ae"
            ],
            [
             0.3,
             "#f1b6da"
            ],
            [
             0.4,
             "#fde0ef"
            ],
            [
             0.5,
             "#f7f7f7"
            ],
            [
             0.6,
             "#e6f5d0"
            ],
            [
             0.7,
             "#b8e186"
            ],
            [
             0.8,
             "#7fbc41"
            ],
            [
             0.9,
             "#4d9221"
            ],
            [
             1,
             "#276419"
            ]
           ],
           "sequential": [
            [
             0,
             "#0d0887"
            ],
            [
             0.1111111111111111,
             "#46039f"
            ],
            [
             0.2222222222222222,
             "#7201a8"
            ],
            [
             0.3333333333333333,
             "#9c179e"
            ],
            [
             0.4444444444444444,
             "#bd3786"
            ],
            [
             0.5555555555555556,
             "#d8576b"
            ],
            [
             0.6666666666666666,
             "#ed7953"
            ],
            [
             0.7777777777777778,
             "#fb9f3a"
            ],
            [
             0.8888888888888888,
             "#fdca26"
            ],
            [
             1,
             "#f0f921"
            ]
           ],
           "sequentialminus": [
            [
             0,
             "#0d0887"
            ],
            [
             0.1111111111111111,
             "#46039f"
            ],
            [
             0.2222222222222222,
             "#7201a8"
            ],
            [
             0.3333333333333333,
             "#9c179e"
            ],
            [
             0.4444444444444444,
             "#bd3786"
            ],
            [
             0.5555555555555556,
             "#d8576b"
            ],
            [
             0.6666666666666666,
             "#ed7953"
            ],
            [
             0.7777777777777778,
             "#fb9f3a"
            ],
            [
             0.8888888888888888,
             "#fdca26"
            ],
            [
             1,
             "#f0f921"
            ]
           ]
          },
          "colorway": [
           "#636efa",
           "#EF553B",
           "#00cc96",
           "#ab63fa",
           "#FFA15A",
           "#19d3f3",
           "#FF6692",
           "#B6E880",
           "#FF97FF",
           "#FECB52"
          ],
          "font": {
           "color": "#2a3f5f"
          },
          "geo": {
           "bgcolor": "white",
           "lakecolor": "white",
           "landcolor": "#E5ECF6",
           "showlakes": true,
           "showland": true,
           "subunitcolor": "white"
          },
          "hoverlabel": {
           "align": "left"
          },
          "hovermode": "closest",
          "mapbox": {
           "style": "light"
          },
          "paper_bgcolor": "white",
          "plot_bgcolor": "#E5ECF6",
          "polar": {
           "angularaxis": {
            "gridcolor": "white",
            "linecolor": "white",
            "ticks": ""
           },
           "bgcolor": "#E5ECF6",
           "radialaxis": {
            "gridcolor": "white",
            "linecolor": "white",
            "ticks": ""
           }
          },
          "scene": {
           "xaxis": {
            "backgroundcolor": "#E5ECF6",
            "gridcolor": "white",
            "gridwidth": 2,
            "linecolor": "white",
            "showbackground": true,
            "ticks": "",
            "zerolinecolor": "white"
           },
           "yaxis": {
            "backgroundcolor": "#E5ECF6",
            "gridcolor": "white",
            "gridwidth": 2,
            "linecolor": "white",
            "showbackground": true,
            "ticks": "",
            "zerolinecolor": "white"
           },
           "zaxis": {
            "backgroundcolor": "#E5ECF6",
            "gridcolor": "white",
            "gridwidth": 2,
            "linecolor": "white",
            "showbackground": true,
            "ticks": "",
            "zerolinecolor": "white"
           }
          },
          "shapedefaults": {
           "line": {
            "color": "#2a3f5f"
           }
          },
          "ternary": {
           "aaxis": {
            "gridcolor": "white",
            "linecolor": "white",
            "ticks": ""
           },
           "baxis": {
            "gridcolor": "white",
            "linecolor": "white",
            "ticks": ""
           },
           "bgcolor": "#E5ECF6",
           "caxis": {
            "gridcolor": "white",
            "linecolor": "white",
            "ticks": ""
           }
          },
          "title": {
           "x": 0.05
          },
          "xaxis": {
           "automargin": true,
           "gridcolor": "white",
           "linecolor": "white",
           "ticks": "",
           "title": {
            "standoff": 15
           },
           "zerolinecolor": "white",
           "zerolinewidth": 2
          },
          "yaxis": {
           "automargin": true,
           "gridcolor": "white",
           "linecolor": "white",
           "ticks": "",
           "title": {
            "standoff": 15
           },
           "zerolinecolor": "white",
           "zerolinewidth": 2
          }
         }
        },
        "title": {
         "font": {
          "color": "black",
          "size": 20
         },
         "text": ""
        },
        "width": 800,
        "xaxis": {
         "anchor": "y",
         "categoryarray": [
          "1",
          "2",
          "4",
          "8",
          "16",
          "32"
         ],
         "categoryorder": "array",
         "domain": [
          0,
          1
         ],
         "tickvals": [
          1,
          2,
          4,
          8,
          16,
          32
         ],
         "title": {
          "text": "Number of Layers"
         },
         "type": "log"
        },
        "yaxis": {
         "anchor": "x",
         "domain": [
          0,
          1
         ],
         "title": {
          "text": "Test MSE"
         },
         "type": "log"
        }
       }
      }
     },
     "metadata": {},
     "output_type": "display_data"
    }
   ],
   "source": [
    "import plotly.express as px\n",
    "import numpy as np\n",
    "import plotly.graph_objects as go\n",
    "\n",
    "df_plot = df_long.copy()\n",
    "df_plot[\"epoch\"] = df_plot[\"epoch\"].astype(str)\n",
    "\n",
    "# compute baseline\n",
    "filter_dic_baseline = {\n",
    "    \"n_layer\": \"2\",\n",
    "    \"n_embd\": \"256\",\n",
    "    #\"embedding\": \"gaussian\",\n",
    "    \"read_in_bias\": \"False\",\n",
    "    \"epoch\": 299,\n",
    "}\n",
    "\n",
    "df_baseline = df_plot.copy()\n",
    "for key, value in filter_dic_baseline.items():\n",
    "    df_baseline = df_baseline[np.isin(df_baseline[key], [value, \"missing\"])]\n",
    "\n",
    "# only fourier or gaussian\n",
    "df_baseline = df_baseline[df_baseline[\"embedding\"] != \"none\"]\n",
    "\n",
    "# compute the mean test_loss grouped by embedding\n",
    "df_baseline_grouped = df_baseline.groupby([\"embedding\", \"epoch\"])[\"test_loss\"].median().reset_index()\n",
    "\n",
    "\n",
    "\n",
    "\n",
    "\n",
    "\n",
    "filter_dic = {\n",
    "    \"epoch\": \"299\",\n",
    "    #\"n_embd\": \"256\",\n",
    "    \"embedding\": \"none\",\n",
    "    \"read_in_bias\": \"False\",\n",
    "    \"attention_only\": \"True\",\n",
    "    \"n_epochs\": \"400\",\n",
    "}\n",
    "# remove 128 n_embd\n",
    "df_plot = df_plot[df_plot[\"n_embd\"] != \"128\"]\n",
    "\n",
    "#df_plot = df_long.copy()\n",
    "for key, value in filter_dic.items():\n",
    "    df_plot = df_plot[np.isin(df_plot[key], [value, \"missing\"])]\n",
    "\n",
    "df_plot[\"n_layer\"] = df_plot[\"n_layer\"].astype(\"int\")\n",
    "# order n_layer\n",
    "#df_plot[\"n_layer\"] = pd.Categorical(df_plot[\"n_layer\"], categories=[\"1\", \"2\", \"4\", \"6\", \"8\", \"10\", \"12\", \"14\", \"16\", \"18\", \"20\"], ordered=True)\n",
    "# order n_embd as categorical\n",
    "df_plot[\"n_embd\"] = df_plot[\"n_embd\"].astype(str)\n",
    "#df_plot[\"n_embd\"] = pd.Categorical(df_plot[\"n_embd\"], categories=[\"128\", \"256\", \"512\"], ordered=True)\n",
    "\n",
    "fig = px.box(df_plot, \n",
    "           x=\"n_layer\", \n",
    "           #y=\"embedding\", \n",
    "           y = \"test_loss\",\n",
    "           color=\"n_embd\", \n",
    "           hover_data=[\"iter\", \"n_embd\"],\n",
    "           title=\"Test Loss vs. Epoch\",\n",
    "           #facet_col=\"read_in_bias\",\n",
    "           #facet_row=\"embedding\",\n",
    "           log_y=True,\n",
    "           category_orders={\"n_layer\": [\"1\", \"2\", \"4\", \"8\", \"16\", \"32\"]}, # removed 1\n",
    "           log_x=True,\n",
    "           height=600,\n",
    ")\n",
    "\n",
    "# print count per n_layer\n",
    "print(df_plot[\"n_layer\"].value_counts())\n",
    "print(df_plot[\"attention_only\"].value_counts())\n",
    "print(df_plot[\"n_epochs\"].value_counts())\n",
    "\n",
    "\n",
    "\n",
    "# # Add horizontal lines and annotations for the baseline\n",
    "for i, embedding in enumerate(df_baseline[\"embedding\"].unique()):\n",
    "    baseline_data = df_baseline_grouped[df_baseline_grouped[\"embedding\"] == embedding]\n",
    "    color = \"grey\" if i else \"black\"\n",
    "    for i, row in baseline_data.iterrows():\n",
    "        fig.add_hline(y=row[\"test_loss\"], line_dash=\"dash\", line_color=color)\n",
    "        # Adjust the annotation position to be near the right side of the plot\n",
    "        fig.add_annotation(\n",
    "            x=0.95,  # Use relative coordinates (0 to 1) for x position\n",
    "            y=row[\"test_loss\"], \n",
    "            #text=f\"{embedding} baseline (epoch {row['epoch']})\", \n",
    "            showarrow=True, \n",
    "            arrowhead=2,\n",
    "            ax=0.95,  # Position arrow base at the same relative x position\n",
    "            ay=row[\"test_loss\"],  # Position arrow base at the same y value\n",
    "            xref=\"paper\",  # Reference x to the entire plot\n",
    "            yref=\"y\",  # Reference y to the y-axis value\n",
    "            font=dict(size=14),\n",
    "            #bgcolor=\"white\",\n",
    "            #bordercolor=\"black\",\n",
    "            borderwidth=2,\n",
    "        )\n",
    "\n",
    "# Create baseline box plots and add them to the main plot\n",
    "# Create baseline box plots and add them to the main plot\n",
    "for i, embedding in enumerate(df_baseline[\"embedding\"].unique()):\n",
    "    df_baseline_embedding = df_baseline[df_baseline[\"embedding\"] == embedding]\n",
    "    increment = 0.4 if i else -0.4  # Shift the baseline box plots to the left or right\n",
    "    df_baseline_embedding[\"n_layer\"] = df_baseline_embedding[\"n_layer\"].astype(float) + increment\n",
    "    color = \"grey\" if i else \"black\"\n",
    "    baseline_fig = px.box(\n",
    "        df_baseline_embedding, \n",
    "        x=\"n_layer\", \n",
    "        y=\"test_loss\",\n",
    "        color=\"n_embd\",\n",
    "        color_discrete_sequence=[color],  # Set to black\n",
    "        log_y=True,\n",
    "        height=600,\n",
    "    )\n",
    "    for trace in baseline_fig.data:\n",
    "        trace.update(showlegend=False)  # Hide legend for the baseline traces\n",
    "        fig.add_trace(trace)\n",
    "\n",
    "    \n",
    "# Update layout for better readability\n",
    "fig.update_layout(\n",
    "    #title=\"Test Loss vs. Epoch\",\n",
    "    title=\"\",\n",
    "    xaxis_title=\"Number of Layers\",\n",
    "    yaxis_title=\"Test MSE\",\n",
    "    legend_title=\"Embedding Dimension\",\n",
    "    font=dict(\n",
    "        family=\"Arial, sans-serif\",\n",
    "        size=18,  # Increase the font size\n",
    "        color=\"black\"\n",
    "    ),\n",
    "    title_font=dict(\n",
    "        size=20,  # Increase the title font size\n",
    "        color=\"black\"\n",
    "    ),\n",
    "    legend=dict(\n",
    "        x=1.05,\n",
    "        y=1,\n",
    "        traceorder=\"normal\",\n",
    "        bgcolor=\"white\",\n",
    "        bordercolor=\"black\",\n",
    "        borderwidth=1,\n",
    "        font=dict(size=14),  # Increase legend font size\n",
    "    ),\n",
    "    margin=dict(l=40, r=40, t=60, b=40),  # Adjust margins for better layout\n",
    "    # make box wider\n",
    "    boxmode='overlay',\n",
    "    boxgap=0.2,\n",
    "    boxgroupgap=0.2,\n",
    ")\n",
    "# make ticks only for the layers in the plot\n",
    "fig.update_xaxes(tickvals=[1, 2, 4, 8, 16, 32])\n",
    "# make the plot square\n",
    "fig.update_layout(height=600, width=800)\n",
    "\n",
    "fig.show()\n",
    "\n",
    "# save to pdf\n",
    "import plotly.io as pio\n",
    "#pio.write_image(fig, \"plots/sort_n_layers.pdf\")\n",
    "\n",
    "# save to svg\n",
    "import plotly.io as pio\n",
    "pio.write_image(fig, \"plots/sort_n_layers_2.svg\")"
   ]
  }
 ],
 "metadata": {
  "kernelspec": {
   "display_name": "Python 3",
   "language": "python",
   "name": "python3"
  },
  "language_info": {
   "codemirror_mode": {
    "name": "ipython",
    "version": 3
   },
   "file_extension": ".py",
   "mimetype": "text/x-python",
   "name": "python",
   "nbconvert_exporter": "python",
   "pygments_lexer": "ipython3",
   "version": "3.10.11"
  }
 },
 "nbformat": 4,
 "nbformat_minor": 2
}
